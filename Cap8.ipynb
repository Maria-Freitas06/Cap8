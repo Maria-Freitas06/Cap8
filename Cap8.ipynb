{
 "cells": [
  {
   "cell_type": "markdown",
   "metadata": {},
   "source": [
    "## Exercícios - Capítulo 8"
   ]
  },
  {
   "cell_type": "markdown",
   "metadata": {},
   "source": [
    "### Questões Obrigatórias"
   ]
  },
  {
   "cell_type": "code",
   "execution_count": 2,
   "metadata": {},
   "outputs": [
    {
     "name": "stdout",
     "output_type": "stream",
     "text": [
      "Escreva o número de sua matricula180024035\n",
      "Você deverá entregar os exercícios:  [185, 176]\n"
     ]
    }
   ],
   "source": [
    "\n",
    "import random\n",
    "\n",
    "def escolhe(matricula):\n",
    "    random.seed(matricula)\n",
    "    cap1 = (2,8,9,11,12,15,16,18,20,21,22,24,26,27,28,30,31,32)    \n",
    "    cap2 = (36,40,44,45,46,48,50,51,53,55,56,57,59,60)\n",
    "    cap3 = (63,64,65,68,71,72,74,76,78,80,81,84)\n",
    "    cap4 = (85,86,87,89,91,92,94,97,99,101,103,104,106)\n",
    "    cap5 = (111,115,117,118,119,122,123,124,126,127,131,132,133)\n",
    "    cap6 = (138,139,140,141,144,147,148)\n",
    "    cap7 = (152,153,154,155,157,160,161,164,165,166,168,171,172)\n",
    "    cap8 = (174,175,176,177,179,181,182,185)\n",
    "    return(random.sample(cap8, k=2))\n",
    "\n",
    "print(\"Você deverá entregar os exercícios: \", escolhe(input(\"Escreva o número de sua matricula\")))"
   ]
  },
  {
   "cell_type": "markdown",
   "metadata": {},
   "source": [
    "#### Questão 174 - Greatest Common Divisor"
   ]
  },
  {
   "cell_type": "code",
   "execution_count": 3,
   "metadata": {},
   "outputs": [
    {
     "name": "stdout",
     "output_type": "stream",
     "text": [
      "Insira o primeiro número: 2345\n",
      "Insira o segundo número: 5678\n",
      "1\n"
     ]
    }
   ],
   "source": [
    "def mdc(n, m):\n",
    "    a = max(n,m); b = min(n, m)\n",
    "    if b == 0:\n",
    "        return a\n",
    "    else:\n",
    "        c = a % b\n",
    "        return mdc(b, c)\n",
    "\n",
    "n = int(input('Insira o primeiro número: '))\n",
    "m = int(input('Insira o segundo número: '))\n",
    "\n",
    "print(mdc(m, n))"
   ]
  },
  {
   "cell_type": "markdown",
   "metadata": {},
   "source": [
    "#### Questão 175 - Recursive Decimal to Binary"
   ]
  },
  {
   "cell_type": "code",
   "execution_count": 4,
   "metadata": {},
   "outputs": [
    {
     "name": "stdout",
     "output_type": "stream",
     "text": [
      "Insira um inteiro não negativo: 42\n",
      "Número binário: 101010\n"
     ]
    }
   ],
   "source": [
    "def binary(n):\n",
    "    if n == 0:\n",
    "        return '0'\n",
    "    elif n == 1:\n",
    "        return '1'\n",
    "    else:\n",
    "        return binary(n//2) + str(n%2)\n",
    "    \n",
    "def main():\n",
    "    binario = binary(int(input('Insira um inteiro não negativo: ')))\n",
    "    print('Número binário:', binario)\n",
    "main()"
   ]
  },
  {
   "cell_type": "markdown",
   "metadata": {},
   "source": [
    "## Questão 176 - The NATO Phonetic Alphabet"
   ]
  },
  {
   "cell_type": "code",
   "execution_count": 5,
   "metadata": {},
   "outputs": [
    {
     "name": "stdout",
     "output_type": "stream",
     "text": [
      "Insira uma palavra: Python\n",
      "Papa Yankee Tango Hotel Oscar November \n"
     ]
    }
   ],
   "source": [
    "letter = ['A', 'B', 'C', 'D', 'E', 'F', 'G','H', 'I', 'J', 'K', 'L', 'M','N', 'O', 'P', 'Q', 'R', 'S', 'T','U', 'V', 'W', 'X', 'Y', 'Z']\n",
    "word = ['Alpha', 'Bravo', 'Charlie', 'Delta', 'Echo', 'Foxtrot', 'Golf', 'Hotel', 'India',\n",
    "'Juliet', 'Kilo', 'Lima', 'Mike', 'November', 'Oscar', 'Papa', 'Quebec', 'Romeo',\n",
    "'Sierra', 'Tango', 'Uniform', 'Victor', 'Whiskey', 'Xray', 'Yankee', 'Zulu']\n",
    "\n",
    "NATO = {}\n",
    "for i in range(len(letter)):\n",
    "    NATO[letter[i]] = word[i]\n",
    "\n",
    "def nato(ss):\n",
    "    if len(ss) == 0:\n",
    "        return ''\n",
    "    else:\n",
    "        return NATO[ss[0]] + ' ' + nato(ss[1:])\n",
    "\n",
    "def main():\n",
    "    name = input('Insira uma palavra: '); name = name.upper()\n",
    "    print(nato(name))\n",
    "\n",
    "main()"
   ]
  },
  {
   "cell_type": "markdown",
   "metadata": {},
   "source": [
    "#### Questão 177 - Roman Numerals"
   ]
  },
  {
   "cell_type": "code",
   "execution_count": 6,
   "metadata": {},
   "outputs": [
    {
     "name": "stdout",
     "output_type": "stream",
     "text": [
      "Insira um número romano: XXI\n",
      "21\n"
     ]
    }
   ],
   "source": [
    "roman = {'M':1000, 'D':500, 'C':100, 'L':50, 'X':10, 'V':5, 'I':1}\n",
    "\n",
    "def conv(num):\n",
    "    if len(num) == 0:\n",
    "        return 0\n",
    "    elif len(num) == 1:\n",
    "        return roman[num]\n",
    "    else:\n",
    "        if roman[num[0]] < roman[num[1]]:\n",
    "            return roman[num[1]] - roman[num[0]] + conv(num[2:])\n",
    "        else:\n",
    "            return roman[num[0]] + roman[num[1]] + conv(num[2:])\n",
    "\n",
    "\n",
    "print(conv(input('Insira um número romano: ')))"
   ]
  },
  {
   "cell_type": "markdown",
   "metadata": {},
   "source": [
    "#### Questão 179 -  Recursive Square Root"
   ]
  },
  {
   "cell_type": "code",
   "execution_count": 7,
   "metadata": {},
   "outputs": [
    {
     "name": "stdout",
     "output_type": "stream",
     "text": [
      "Exemplos de raiz quadrada:\n",
      "n = 19\n",
      "4.358898943540673\n",
      "\n",
      "n = 25\n",
      "5.0\n",
      "\n",
      "n = 2519\n",
      "50.18964036531842\n"
     ]
    }
   ],
   "source": [
    "def sqrt(n, guess = 1):\n",
    "    if abs(guess**2 - n) < 10**(-12):\n",
    "        return guess\n",
    "    else:\n",
    "        return sqrt(n, ((guess + n/guess)/2))\n",
    "\n",
    "def main():\n",
    "    print('Exemplos de raiz quadrada:')\n",
    "    print('n = 19')\n",
    "    print(sqrt(19)); print()\n",
    "    print('n = 25')\n",
    "    print(sqrt(25)); print()\n",
    "    print('n = 2519')\n",
    "    print(sqrt(2519))\n",
    "\n",
    "if __name__ == '__main__':\n",
    "    main()"
   ]
  },
  {
   "cell_type": "markdown",
   "metadata": {},
   "source": [
    "## Questão 185 - Run-Length Decoding"
   ]
  },
  {
   "cell_type": "code",
   "execution_count": 8,
   "metadata": {},
   "outputs": [
    {
     "name": "stdout",
     "output_type": "stream",
     "text": [
      "['A', 'A', 'A', 'A', 'A', 'A', 'A', 'A', 'A', 'A', 'A', 'A', 'B', 'B', 'B', 'B', 'A', 'A', 'A', 'A', 'A', 'A', 'B']\n"
     ]
    }
   ],
   "source": [
    "def decode(lista):\n",
    "    nova_lista = []\n",
    "    if len(lista) == 2:\n",
    "        for _ in range(lista[1]):\n",
    "            nova_lista.append(lista[0])\n",
    "    else:\n",
    "        for _ in range(lista[1]):\n",
    "            nova_lista.append(lista[0])\n",
    "        nova_lista += decode(lista[2:])\n",
    "    return nova_lista\n",
    "\n",
    "def main():\n",
    "    print(decode([\"A\", 12, \"B\", 4, \"A\", 6, \"B\", 1]))\n",
    "\n",
    "if __name__ == '__main__':\n",
    "    main()"
   ]
  }
 ],
 "metadata": {
  "kernelspec": {
   "display_name": "Python 3",
   "language": "python",
   "name": "python3"
  },
  "language_info": {
   "codemirror_mode": {
    "name": "ipython",
    "version": 3
   },
   "file_extension": ".py",
   "mimetype": "text/x-python",
   "name": "python",
   "nbconvert_exporter": "python",
   "pygments_lexer": "ipython3",
   "version": "3.8.5"
  }
 },
 "nbformat": 4,
 "nbformat_minor": 4
}
